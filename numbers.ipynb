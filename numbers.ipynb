{
 "cells": [
  {
   "cell_type": "code",
   "execution_count": 1,
   "id": "77ddfdd5",
   "metadata": {},
   "outputs": [
    {
     "data": {
      "image/png": "[encoded data removed]",
      "text/plain": [
       "<Figure size 576x1152 with 8 Axes>"
      ]
     },
     "metadata": {
      "needs_background": "light"
     },
     "output_type": "display_data"
    }
   ],
   "source": [
    "import numpy as np\n",
    "from sklearn.linear_model import LogisticRegression\n",
    "import matplotlib.pyplot as plt\n",
    "\n",
    "# Define the training data: 5x3 matrices representing digits 0 to 9\n",
    "digits = {\n",
    "    0: [[1, 1, 1], [1, 0, 1], [1, 0, 1], [1, 0, 1], [1, 1, 1]],\n",
    "    1: [[0, 1, 0], [0, 1, 0], [0, 1, 0], [0, 1, 0], [0, 1, 0]],\n",
    "    2: [[1, 1, 1], [0, 0, 1], [1, 1, 1], [1, 0, 0], [1, 1, 1]],\n",
    "    3: [[1, 1, 1], [0, 0, 1], [1, 1, 1], [0, 0, 1], [1, 1, 1]],\n",
    "    4: [[1, 0, 1], [1, 0, 1], [1, 1, 1], [0, 0, 1], [0, 0, 1]],\n",
    "    5: [[1, 1, 1], [1, 0, 0], [1, 1, 1], [0, 0, 1], [1, 1, 1]],\n",
    "    6: [[1, 1, 1], [1, 0, 0], [1, 1, 1], [1, 0, 1], [1, 1, 1]],\n",
    "    7: [[1, 1, 1], [0, 0, 1], [0, 0, 1], [0, 0, 1], [0, 0, 1]],\n",
    "    8: [[1, 1, 1], [1, 0, 1], [1, 1, 1], [1, 0, 1], [1, 1, 1]],\n",
    "    9: [[1, 1, 1], [1, 0, 1], [1, 1, 1], [0, 0, 1], [0, 0, 1]]\n",
    "}\n",
    "\n",
    "# Prepare training data\n",
    "X_train = np.array([np.array(digit).flatten() for digit in digits.values()])\n",
    "y_train = np.array(list(digits.keys()))\n",
    "\n",
    "# Train the model\n",
    "model = LogisticRegression(max_iter=1000)\n",
    "model.fit(X_train, y_train)\n",
    "\n",
    "# Define the test data: 5x3 matrices representing digits to be recognized\n",
    "test_data = {\n",
    "    \"Test 1\": [[1, 1, 1], [1, 0, 1], [1, 0, 1], [1, 0, 1], [1, 1, 1]],  # Digit 0\n",
    "    \"Test 2\": [[0, 1, 0], [0, 1, 0], [0, 1, 0], [0, 1, 0], [0, 1, 0]],  # Digit 1\n",
    "    \"Test 3\": [[1, 1, 1], [0, 0, 1], [1, 1, 1], [1, 0, 0], [1, 1, 1]],  # Digit 2\n",
    "    \"Test 4\": [[1, 1, 1], [0, 0, 1], [0, 1, 1], [0, 0, 1], [1, 1, 1]],  # Digit 3\n",
    "    # Add more test data for other digits...\n",
    "}\n",
    "\n",
    "X_test = np.array([np.array(digit).flatten() for digit in test_data.values()])\n",
    "\n",
    "# Predict digits for test data\n",
    "predictions = model.predict(X_test)\n",
    "fig, axs = plt.subplots(len(test_data), 2, figsize=(8, 4 * len(test_data)))\n",
    "\n",
    "for i, (test_name, digit) in enumerate(test_data.items()):\n",
    "    axs[i, 0].imshow(np.array(digit), cmap='binary')\n",
    "    axs[i, 0].axis('off')\n",
    "    axs[i, 0].set_title(test_name)\n",
    "\n",
    "    axs[i, 1].text(0.5, 0.5, f\"Predicted: {predictions[i]}\", ha='center', va='center', fontsize=12)\n",
    "    axs[i, 1].axis('off')\n",
    "\n",
    "plt.tight_layout()\n",
    "plt.show()"
   ]
  },
  {
   "cell_type": "code",
   "execution_count": null,
   "id": "43f21bcb",
   "metadata": {},
   "outputs": [],
   "source": []
  }
 ],
 "metadata": {
  "kernelspec": {
   "display_name": "Python 3 (ipykernel)",
   "language": "python",
   "name": "python3"
  },
  "language_info": {
   "codemirror_mode": {
    "name": "ipython",
    "version": 3
   },
   "file_extension": ".py",
   "mimetype": "text/x-python",
   "name": "python",
   "nbconvert_exporter": "python",
   "pygments_lexer": "ipython3",
   "version": "3.10.1"
  }
 },
 "nbformat": 4,
 "nbformat_minor": 5
}
